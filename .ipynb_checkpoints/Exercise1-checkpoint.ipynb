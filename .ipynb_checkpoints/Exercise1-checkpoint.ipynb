{
 "cells": [
  {
   "cell_type": "code",
   "execution_count": 4,
   "metadata": {},
   "outputs": [],
   "source": [
    "import numpy as np\n",
    "import pandas as pd\n",
    "import matplotlib.pyplot as plt\n",
    "\n",
    "def handle_missingValues_simple(incomplete_data):\n",
    "\n",
    "    complete_data = incomplete_data.fillna(method='bfill').fillna(method='ffill')\n",
    "    return complete_data\n",
    "\n",
    "def handle_outliers(noisy_data):\n",
    "\n",
    "    cleaned_data=noisy_data\n",
    "    for column in cleaned_data:\n",
    "        cleaned_data[column] = cleaned_data[column].rolling(window=2,center=True).median().fillna(method='bfill').fillna(method='ffill')\n",
    "    return cleaned_data\n"
   ]
  },
  {
   "cell_type": "code",
   "execution_count": 5,
   "metadata": {},
   "outputs": [
    {
     "data": {
      "text/html": [
       "<div>\n",
       "<style scoped>\n",
       "    .dataframe tbody tr th:only-of-type {\n",
       "        vertical-align: middle;\n",
       "    }\n",
       "\n",
       "    .dataframe tbody tr th {\n",
       "        vertical-align: top;\n",
       "    }\n",
       "\n",
       "    .dataframe thead th {\n",
       "        text-align: right;\n",
       "    }\n",
       "</style>\n",
       "<table border=\"1\" class=\"dataframe\">\n",
       "  <thead>\n",
       "    <tr style=\"text-align: right;\">\n",
       "      <th></th>\n",
       "      <th>ï»¿\"Category\"</th>\n",
       "      <th>Sector code</th>\n",
       "      <th>Product code</th>\n",
       "      <th>Product desc</th>\n",
       "      <th>Product Brief Description</th>\n",
       "      <th>Unit</th>\n",
       "      <th>Period</th>\n",
       "      <th>MP Market Price</th>\n",
       "    </tr>\n",
       "    <tr>\n",
       "      <th>Country</th>\n",
       "      <th></th>\n",
       "      <th></th>\n",
       "      <th></th>\n",
       "      <th></th>\n",
       "      <th></th>\n",
       "      <th></th>\n",
       "      <th></th>\n",
       "      <th></th>\n",
       "    </tr>\n",
       "  </thead>\n",
       "  <tbody>\n",
       "    <tr>\n",
       "      <th>AT</th>\n",
       "      <td>Animal products</td>\n",
       "      <td>OEV</td>\n",
       "      <td>0207 11 30</td>\n",
       "      <td>Chicken</td>\n",
       "      <td>Broiler - Poulet, 65%</td>\n",
       "      <td>â‚¬/100 kg carcass weight</td>\n",
       "      <td>201903.0</td>\n",
       "      <td>199.200</td>\n",
       "    </tr>\n",
       "    <tr>\n",
       "      <th>BE</th>\n",
       "      <td>Animal products</td>\n",
       "      <td>OEV</td>\n",
       "      <td>0207 11 30</td>\n",
       "      <td>Chicken</td>\n",
       "      <td>Broiler - Poulet, 65%</td>\n",
       "      <td>â‚¬/100 kg carcass weight</td>\n",
       "      <td>201903.0</td>\n",
       "      <td>199.200</td>\n",
       "    </tr>\n",
       "    <tr>\n",
       "      <th>BG</th>\n",
       "      <td>Animal products</td>\n",
       "      <td>OEV</td>\n",
       "      <td>0207 11 30</td>\n",
       "      <td>Chicken</td>\n",
       "      <td>Broiler - Poulet, 65%</td>\n",
       "      <td>â‚¬/100 kg carcass weight</td>\n",
       "      <td>201903.0</td>\n",
       "      <td>159.055</td>\n",
       "    </tr>\n",
       "    <tr>\n",
       "      <th>CY</th>\n",
       "      <td>Animal products</td>\n",
       "      <td>OEV</td>\n",
       "      <td>0207 11 30</td>\n",
       "      <td>Chicken</td>\n",
       "      <td>Broiler - Poulet, 65%</td>\n",
       "      <td>â‚¬/100 kg carcass weight</td>\n",
       "      <td>201903.0</td>\n",
       "      <td>201.230</td>\n",
       "    </tr>\n",
       "    <tr>\n",
       "      <th>CZ</th>\n",
       "      <td>Animal products</td>\n",
       "      <td>OEV</td>\n",
       "      <td>0207 11 30</td>\n",
       "      <td>Chicken</td>\n",
       "      <td>Broiler - Poulet, 65%</td>\n",
       "      <td>â‚¬/100 kg carcass weight</td>\n",
       "      <td>201903.0</td>\n",
       "      <td>231.785</td>\n",
       "    </tr>\n",
       "  </tbody>\n",
       "</table>\n",
       "</div>"
      ],
      "text/plain": [
       "           ï»¿\"Category\" Sector code Product code Product desc  \\\n",
       "Country                                                          \n",
       "AT       Animal products         OEV   0207 11 30      Chicken   \n",
       "BE       Animal products         OEV   0207 11 30      Chicken   \n",
       "BG       Animal products         OEV   0207 11 30      Chicken   \n",
       "CY       Animal products         OEV   0207 11 30      Chicken   \n",
       "CZ       Animal products         OEV   0207 11 30      Chicken   \n",
       "\n",
       "        Product Brief Description                       Unit    Period  \\\n",
       "Country                                                                  \n",
       "AT          Broiler - Poulet, 65%  â‚¬/100 kg carcass weight  201903.0   \n",
       "BE          Broiler - Poulet, 65%  â‚¬/100 kg carcass weight  201903.0   \n",
       "BG          Broiler - Poulet, 65%  â‚¬/100 kg carcass weight  201903.0   \n",
       "CY          Broiler - Poulet, 65%  â‚¬/100 kg carcass weight  201903.0   \n",
       "CZ          Broiler - Poulet, 65%  â‚¬/100 kg carcass weight  201903.0   \n",
       "\n",
       "         MP Market Price  \n",
       "Country                   \n",
       "AT               199.200  \n",
       "BE               199.200  \n",
       "BG               159.055  \n",
       "CY               201.230  \n",
       "CZ               231.785  "
      ]
     },
     "execution_count": 5,
     "metadata": {},
     "output_type": "execute_result"
    }
   ],
   "source": [
    "productprices = pd.read_csv(open(\"data/market-prices-all-products_en.csv\", \"r\"), encoding='utf-8', engine='c', header=0)\n",
    "productprices=productprices.set_index('Country')\n",
    "productprices=handle_missingValues_simple(productprices)\n",
    "productprices=handle_outliers(productprices)\n",
    "productprices.head()"
   ]
  },
  {
   "cell_type": "code",
   "execution_count": 6,
   "metadata": {},
   "outputs": [],
   "source": [
    "subset=productprices[(productprices[\"Product code\"]==\"254\")][[\"Period\",\"MP Market Price\"]]\n",
    "subset[\"Period\"]=subset[\"Period\"]/100\n",
    "subset[\"Period\"]=subset[\"Period\"].apply(np.floor)\n",
    "\n",
    "subset=subset.set_index('Period')\n",
    "subset=subset.groupby(subset.index)['MP Market Price'].mean().reset_index()\n",
    "subset=subset[(subset['Period']<2019)&(subset['Period']>2004)]"
   ]
  },
  {
   "cell_type": "code",
   "execution_count": 7,
   "metadata": {},
   "outputs": [
    {
     "name": "stdout",
     "output_type": "stream",
     "text": [
      "   C-BER_ZEIT-0  F-STUDPG  F-STUDPNG                 name  Unnamed: 2  \\\n",
      "0  BER_ZEIT-031      1369        422  Studienjahr 2003/04         NaN   \n",
      "1  BER_ZEIT-041      1345        368  Studienjahr 2004/05         NaN   \n",
      "2  BER_ZEIT-051      3608       1532  Studienjahr 2005/06         NaN   \n",
      "3  BER_ZEIT-061      3872       1235  Studienjahr 2006/07         NaN   \n",
      "4  BER_ZEIT-071      4237       1426  Studienjahr 2007/08         NaN   \n",
      "\n",
      "                 en_name  de_desc  de_link  en_desc  en_link  de_syn  en_syn  \n",
      "0  academic year 2003/04      NaN      NaN      NaN      NaN     NaN     NaN  \n",
      "1  academic year 2004/05      NaN      NaN      NaN      NaN     NaN     NaN  \n",
      "2  academic year 2005/06      NaN      NaN      NaN      NaN     NaN     NaN  \n",
      "3  academic year 2006/07      NaN      NaN      NaN      NaN     NaN     NaN  \n",
      "4  academic year 2007/08      NaN      NaN      NaN      NaN     NaN     NaN  \n"
     ]
    }
   ],
   "source": [
    "privateUniversityStudents = pd.read_csv(open(\"data/OGD_uptstud_ext_UPT_S_1.csv\", \"r\"), encoding='utf-8', engine='c', header=0,sep=\";\")\n",
    "metadata=pd.read_csv(open(\"data/OGD_uptstud_ext_UPT_S_1_C-BER_ZEIT-0.csv\", \"r\"), encoding='utf-8', engine='c', header=0,sep=\";\")\n",
    "\n",
    "\n",
    "privateUniversityStudents=privateUniversityStudents.set_index(\"C-BER_ZEIT-0\")\n",
    "metadata=metadata.set_index(\"code\")\n",
    "\n",
    "privateUniversityStudents=privateUniversityStudents.join(metadata,how='inner').reset_index()\n",
    "print(privateUniversityStudents.head())\n",
    "privateUniversityStudents=privateUniversityStudents[2:]\n"
   ]
  },
  {
   "cell_type": "code",
   "execution_count": 8,
   "metadata": {},
   "outputs": [
    {
     "data": {
      "image/png": "[encoded data removed]",
      "text/plain": [
       "<matplotlib.figure.Figure at 0x17c378042e8>"
      ]
     },
     "metadata": {},
     "output_type": "display_data"
    }
   ],
   "source": [
    "subset= subset.assign(PrivateStudents=pd.Series(privateUniversityStudents[\"F-STUDPG\"]).values)\n",
    "\n",
    "\n",
    "fig, ax1 = plt.subplots()\n",
    "ax1 = subset.plot(x=\"Period\", y=\"MP Market Price\",ax=ax1,color='tab:blue')\n",
    "ax1.set_ylabel('Butter Marked Price in €/100 kg', color='tab:blue')\n",
    "ax2 = ax1.twinx()  # instantiate a second axes that shares the same x-axis\n",
    "ax2 = subset.plot(x=\"Period\", y=\"PrivateStudents\",ax=ax2,color='tab:red')\n",
    "ax2.set_ylabel('Total Number of students at private universities', color='tab:red')\n",
    "fig.tight_layout()  # otherwise the right y-label is slightly clipped\n",
    "ax2.legend(['Total Number of students at private universities'],loc=0)\n",
    "ax1.legend(['Butter Marked Price'],loc=4)\n",
    "plt.savefig('Figure.png', bbox_inches='tight')\n",
    "plt.show()\n"
   ]
  },
  {
   "cell_type": "code",
   "execution_count": 9,
   "metadata": {},
   "outputs": [],
   "source": [
    "subset=subset.set_index('Period')\n",
    "subset.to_csv('output.csv', sep=',', encoding='utf-8')"
   ]
  }
 ],
 "metadata": {
  "kernelspec": {
   "display_name": "Python 3",
   "language": "python",
   "name": "python3"
  },
  "language_info": {
   "codemirror_mode": {
    "name": "ipython",
    "version": 3
   },
   "file_extension": ".py",
   "mimetype": "text/x-python",
   "name": "python",
   "nbconvert_exporter": "python",
   "pygments_lexer": "ipython3",
   "version": "3.6.4"
  }
 },
 "nbformat": 4,
 "nbformat_minor": 2
}
